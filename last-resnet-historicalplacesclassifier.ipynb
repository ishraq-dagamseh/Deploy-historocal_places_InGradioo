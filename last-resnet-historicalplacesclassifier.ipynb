{
 "cells": [
  {
   "cell_type": "code",
   "execution_count": 1,
   "id": "62fe67f0",
   "metadata": {
    "_cell_guid": "3e42184b-a5be-4a65-858e-5c6d8fcdc734",
    "_uuid": "78fc96a3-5311-4ee1-a767-133060b9d093",
    "collapsed": false,
    "execution": {
     "iopub.execute_input": "2024-01-31T15:22:39.911994Z",
     "iopub.status.busy": "2024-01-31T15:22:39.911661Z",
     "iopub.status.idle": "2024-01-31T15:22:59.129957Z",
     "shell.execute_reply": "2024-01-31T15:22:59.129145Z"
    },
    "jupyter": {
     "outputs_hidden": false
    },
    "papermill": {
     "duration": 19.22624,
     "end_time": "2024-01-31T15:22:59.132308",
     "exception": false,
     "start_time": "2024-01-31T15:22:39.906068",
     "status": "completed"
    },
    "tags": []
   },
   "outputs": [
    {
     "name": "stderr",
     "output_type": "stream",
     "text": [
      "/opt/conda/lib/python3.10/site-packages/scipy/__init__.py:146: UserWarning: A NumPy version >=1.16.5 and <1.23.0 is required for this version of SciPy (detected version 1.24.3\n",
      "  warnings.warn(f\"A NumPy version >={np_minversion} and <{np_maxversion}\"\n"
     ]
    }
   ],
   "source": [
    "# In this code used ResNet50 as pretrained model to build image classifier to detect 6 places from\n",
    "#historical places in Jordan \n",
    "\n",
    "###########Import Required libraries#####################\n",
    "import os\n",
    "import numpy as np\n",
    "import matplotlib.pyplot as plt\n",
    "\n",
    "import tensorflow as tf\n",
    "from tensorflow import keras\n",
    "from keras.preprocessing.image import ImageDataGenerator\n",
    "from keras.layers import Dense, Flatten, Dropout, BatchNormalization\n",
    "from keras.models import Sequential, save_model\n",
    "from tensorflow.keras.applications import ResNet50\n",
    "from tensorflow.keras.applications.resnet50 import preprocess_input\n",
    "from keras import optimizers\n",
    "from keras.callbacks import EarlyStopping"
   ]
  },
  {
   "cell_type": "code",
   "execution_count": 2,
   "id": "df31d123",
   "metadata": {
    "execution": {
     "iopub.execute_input": "2024-01-31T15:22:59.142342Z",
     "iopub.status.busy": "2024-01-31T15:22:59.141341Z",
     "iopub.status.idle": "2024-01-31T15:22:59.148186Z",
     "shell.execute_reply": "2024-01-31T15:22:59.147385Z"
    },
    "papermill": {
     "duration": 0.013466,
     "end_time": "2024-01-31T15:22:59.150039",
     "exception": false,
     "start_time": "2024-01-31T15:22:59.136573",
     "status": "completed"
    },
    "tags": []
   },
   "outputs": [],
   "source": [
    "##################Preprocessing data using Data Augmentation#################\n",
    "def prepare_data(train_dir, validation_dir, target_size, batch_size):\n",
    "    train_datagen = ImageDataGenerator(\n",
    "        preprocessing_function=preprocess_input,\n",
    "        rotation_range=40,\n",
    "        width_shift_range=0.2,\n",
    "        height_shift_range=0.2,\n",
    "        shear_range=0.2,\n",
    "        zoom_range=0.2,\n",
    "        horizontal_flip=True,\n",
    "        vertical_flip=True,\n",
    "        fill_mode='nearest'\n",
    "    )\n",
    "\n",
    "    validation_datagen = ImageDataGenerator(preprocessing_function=preprocess_input)\n",
    "\n",
    "    train_generator = train_datagen.flow_from_directory(\n",
    "        train_dir,\n",
    "        target_size=target_size,\n",
    "        batch_size=batch_size,\n",
    "        class_mode='categorical',\n",
    "        shuffle=True\n",
    "    )\n",
    "\n",
    "    validation_generator = validation_datagen.flow_from_directory(\n",
    "        validation_dir,\n",
    "        target_size=target_size,\n",
    "        batch_size=batch_size,\n",
    "        class_mode='categorical',\n",
    "        shuffle=False\n",
    "    )\n",
    "\n",
    "    return train_generator, validation_generator"
   ]
  },
  {
   "cell_type": "code",
   "execution_count": 3,
   "id": "c5a27d35",
   "metadata": {
    "execution": {
     "iopub.execute_input": "2024-01-31T15:22:59.158965Z",
     "iopub.status.busy": "2024-01-31T15:22:59.158694Z",
     "iopub.status.idle": "2024-01-31T15:22:59.166195Z",
     "shell.execute_reply": "2024-01-31T15:22:59.165378Z"
    },
    "papermill": {
     "duration": 0.014113,
     "end_time": "2024-01-31T15:22:59.168018",
     "exception": false,
     "start_time": "2024-01-31T15:22:59.153905",
     "status": "completed"
    },
    "tags": []
   },
   "outputs": [],
   "source": [
    "##############Function to build model with custom classifier #################\n",
    "def build_model(input_shape, num_classes):\n",
    "    base_model = ResNet50(include_top=False, weights='imagenet', input_shape=input_shape)\n",
    "    base_model.trainable = False\n",
    "\n",
    "    model = Sequential()\n",
    "    model.add(base_model)\n",
    "    model.add(Flatten())\n",
    "    model.add(BatchNormalization())\n",
    "    model.add(Dense(4096, activation='relu'))\n",
    "    model.add(Dropout(0.5))\n",
    "    model.add(BatchNormalization())\n",
    "    model.add(Dense(2048, activation='relu'))\n",
    "    model.add(Dropout(0.5))\n",
    "    model.add(BatchNormalization())\n",
    "    model.add(Dense(512, activation='relu'))\n",
    "    model.add(Dropout(0.5))\n",
    "    model.add(BatchNormalization())\n",
    "    model.add(Dense(num_classes, activation=\"softmax\"))\n",
    "\n",
    "    print(model.summary())\n",
    "\n",
    "    return model\n"
   ]
  },
  {
   "cell_type": "code",
   "execution_count": 4,
   "id": "e25a2ac3",
   "metadata": {
    "execution": {
     "iopub.execute_input": "2024-01-31T15:22:59.176905Z",
     "iopub.status.busy": "2024-01-31T15:22:59.176657Z",
     "iopub.status.idle": "2024-01-31T15:22:59.182268Z",
     "shell.execute_reply": "2024-01-31T15:22:59.181465Z"
    },
    "papermill": {
     "duration": 0.012132,
     "end_time": "2024-01-31T15:22:59.184081",
     "exception": false,
     "start_time": "2024-01-31T15:22:59.171949",
     "status": "completed"
    },
    "tags": []
   },
   "outputs": [],
   "source": [
    "###################function to compile and fit the model#######################\n",
    "def train_model(model, train_generator, validation_generator, epochs, steps_per_epoch, validation_steps):\n",
    "    model.compile(\n",
    "        loss='categorical_crossentropy',\n",
    "        optimizer=optimizers.Adam(learning_rate=0.001),\n",
    "        metrics=['accuracy']\n",
    "    )\n",
    "\n",
    "    early_stopping = EarlyStopping(monitor='val_loss', patience=3, restore_best_weights=True)\n",
    "\n",
    "    history = model.fit(\n",
    "        train_generator,\n",
    "        steps_per_epoch=steps_per_epoch,\n",
    "        epochs=epochs,\n",
    "        validation_data=validation_generator,\n",
    "        validation_steps=validation_steps,\n",
    "        callbacks=[early_stopping]\n",
    "    )\n",
    "\n",
    "    return history\n"
   ]
  },
  {
   "cell_type": "code",
   "execution_count": 5,
   "id": "0ea686d8",
   "metadata": {
    "execution": {
     "iopub.execute_input": "2024-01-31T15:22:59.192601Z",
     "iopub.status.busy": "2024-01-31T15:22:59.192338Z",
     "iopub.status.idle": "2024-01-31T15:22:59.199458Z",
     "shell.execute_reply": "2024-01-31T15:22:59.198666Z"
    },
    "papermill": {
     "duration": 0.013402,
     "end_time": "2024-01-31T15:22:59.201260",
     "exception": false,
     "start_time": "2024-01-31T15:22:59.187858",
     "status": "completed"
    },
    "tags": []
   },
   "outputs": [],
   "source": [
    "##################  Function to plot the accuracy and loss of the train and validate the model##################\n",
    "def plot_history(history, save_path=None):\n",
    "    # Plot Training History\n",
    "    plt.plot(history.history['accuracy'])\n",
    "    plt.plot(history.history['val_accuracy'])\n",
    "    plt.title('ResNet50 Model accuracy')\n",
    "    plt.xlabel('Epoch')\n",
    "    plt.ylabel('Accuracy')\n",
    "    plt.legend(['Train', 'Validation'], loc='upper left')\n",
    "    if save_path:\n",
    "        plt.savefig(os.path.join(save_path, 'accuracy_plot.png'))\n",
    "    else:\n",
    "        plt.show()\n",
    "\n",
    "    # Plot training & validation loss values\n",
    "    plt.plot(history.history['loss'])\n",
    "    plt.plot(history.history['val_loss'])\n",
    "    plt.title('ResNet50 Model loss')\n",
    "    plt.xlabel('Epoch')\n",
    "    plt.ylabel('Loss')\n",
    "    plt.legend(['Train', 'Validation'], loc='upper left')\n",
    "    if save_path:\n",
    "        plt.savefig(os.path.join(save_path, 'loss_plot.png'))\n",
    "    else:\n",
    "        plt.show()"
   ]
  },
  {
   "cell_type": "code",
   "execution_count": 6,
   "id": "895a3ed6",
   "metadata": {
    "execution": {
     "iopub.execute_input": "2024-01-31T15:22:59.209816Z",
     "iopub.status.busy": "2024-01-31T15:22:59.209552Z",
     "iopub.status.idle": "2024-01-31T15:22:59.213970Z",
     "shell.execute_reply": "2024-01-31T15:22:59.213143Z"
    },
    "papermill": {
     "duration": 0.01073,
     "end_time": "2024-01-31T15:22:59.215794",
     "exception": false,
     "start_time": "2024-01-31T15:22:59.205064",
     "status": "completed"
    },
    "tags": []
   },
   "outputs": [],
   "source": [
    "###################Function to save the model#########################\n",
    "def save_model(model, save_path='/kaggle/working/ResNet50.h5'):\n",
    "    \"\"\"\n",
    "    Save the trained model weights.\n",
    "\n",
    "    Args:\n",
    "        model (Sequential): Trained Keras model.\n",
    "        save_path (str): Path to save the model weights.\n",
    "    \"\"\"\n",
    "    model.save(save_path)        \n",
    "\n"
   ]
  },
  {
   "cell_type": "code",
   "execution_count": 7,
   "id": "ca70f149",
   "metadata": {
    "execution": {
     "iopub.execute_input": "2024-01-31T15:22:59.224371Z",
     "iopub.status.busy": "2024-01-31T15:22:59.224081Z",
     "iopub.status.idle": "2024-01-31T15:22:59.230226Z",
     "shell.execute_reply": "2024-01-31T15:22:59.229427Z"
    },
    "papermill": {
     "duration": 0.012341,
     "end_time": "2024-01-31T15:22:59.231998",
     "exception": false,
     "start_time": "2024-01-31T15:22:59.219657",
     "status": "completed"
    },
    "tags": []
   },
   "outputs": [],
   "source": [
    "##################main function to run the functions###################\n",
    "def main ():\n",
    "    # Set your parameters\n",
    "    batch_size = 64\n",
    "    IMG_WIDTH = 224\n",
    "    IMG_HEIGHT = 224\n",
    "    CHANNELS = 3\n",
    "    CLASSES = 6\n",
    "    train_dir = '/kaggle/input/hist-train-test/train_test_dataset/train'\n",
    "    validation_dir = '/kaggle/input/hist-train-test/train_test_dataset/test'\n",
    "\n",
    "    # Build Model\n",
    "    model = build_model((IMG_WIDTH, IMG_HEIGHT, CHANNELS), CLASSES)\n",
    "\n",
    "    # Prepare Data\n",
    "    train_generator, validation_generator = prepare_data(train_dir, validation_dir, (IMG_WIDTH, IMG_HEIGHT), batch_size)\n",
    "\n",
    "    # Train Model\n",
    "    STEP_SIZE_TRAIN = train_generator.n // train_generator.batch_size\n",
    "    STEP_SIZE_VALID = validation_generator.n // validation_generator.batch_size\n",
    "    epochs = 30\n",
    "\n",
    "    history = train_model(model, train_generator, validation_generator, epochs, STEP_SIZE_TRAIN, STEP_SIZE_VALID)\n",
    "\n",
    "    # Plot and Save History\n",
    "    plot_history(history)# save_path='/kaggle/working/')\n",
    "    save_model(model)"
   ]
  },
  {
   "cell_type": "code",
   "execution_count": 8,
   "id": "cc1b14aa",
   "metadata": {
    "execution": {
     "iopub.execute_input": "2024-01-31T15:22:59.241127Z",
     "iopub.status.busy": "2024-01-31T15:22:59.240862Z",
     "iopub.status.idle": "2024-01-31T16:06:49.670498Z",
     "shell.execute_reply": "2024-01-31T16:06:49.669426Z"
    },
    "papermill": {
     "duration": 2630.439565,
     "end_time": "2024-01-31T16:06:49.675754",
     "exception": false,
     "start_time": "2024-01-31T15:22:59.236189",
     "status": "completed"
    },
    "tags": []
   },
   "outputs": [
    {
     "name": "stdout",
     "output_type": "stream",
     "text": [
      "Downloading data from https://storage.googleapis.com/tensorflow/keras-applications/resnet/resnet50_weights_tf_dim_ordering_tf_kernels_notop.h5\n",
      "94765736/94765736 [==============================] - 0s 0us/step\n",
      "Model: \"sequential\"\n",
      "_________________________________________________________________\n",
      " Layer (type)                Output Shape              Param #   \n",
      "=================================================================\n",
      " resnet50 (Functional)       (None, 7, 7, 2048)        23587712  \n",
      "                                                                 \n",
      " flatten (Flatten)           (None, 100352)            0         \n",
      "                                                                 \n",
      " batch_normalization (Batch  (None, 100352)            401408    \n",
      " Normalization)                                                  \n",
      "                                                                 \n",
      " dense (Dense)               (None, 4096)              411045888 \n",
      "                                                                 \n",
      " dropout (Dropout)           (None, 4096)              0         \n",
      "                                                                 \n",
      " batch_normalization_1 (Bat  (None, 4096)              16384     \n",
      " chNormalization)                                                \n",
      "                                                                 \n",
      " dense_1 (Dense)             (None, 2048)              8390656   \n",
      "                                                                 \n",
      " dropout_1 (Dropout)         (None, 2048)              0         \n",
      "                                                                 \n",
      " batch_normalization_2 (Bat  (None, 2048)              8192      \n",
      " chNormalization)                                                \n",
      "                                                                 \n",
      " dense_2 (Dense)             (None, 512)               1049088   \n",
      "                                                                 \n",
      " dropout_2 (Dropout)         (None, 512)               0         \n",
      "                                                                 \n",
      " batch_normalization_3 (Bat  (None, 512)               2048      \n",
      " chNormalization)                                                \n",
      "                                                                 \n",
      " dense_3 (Dense)             (None, 6)                 3078      \n",
      "                                                                 \n",
      "=================================================================\n",
      "Total params: 444504454 (1.66 GB)\n",
      "Trainable params: 420702726 (1.57 GB)\n",
      "Non-trainable params: 23801728 (90.80 MB)\n",
      "_________________________________________________________________\n",
      "None\n",
      "Found 4452 images belonging to 6 classes.\n",
      "Found 1113 images belonging to 6 classes.\n",
      "Epoch 1/30\n",
      "69/69 [==============================] - 184s 2s/step - loss: 1.1287 - accuracy: 0.6151 - val_loss: 2.1271 - val_accuracy: 0.7344\n",
      "Epoch 2/30\n",
      "69/69 [==============================] - 138s 2s/step - loss: 0.7104 - accuracy: 0.7411 - val_loss: 0.5533 - val_accuracy: 0.8529\n",
      "Epoch 3/30\n",
      "69/69 [==============================] - 134s 2s/step - loss: 0.5582 - accuracy: 0.7940 - val_loss: 0.4229 - val_accuracy: 0.8732\n",
      "Epoch 4/30\n",
      "69/69 [==============================] - 134s 2s/step - loss: 0.4795 - accuracy: 0.8268 - val_loss: 0.3554 - val_accuracy: 0.8787\n",
      "Epoch 5/30\n",
      "69/69 [==============================] - 132s 2s/step - loss: 0.4431 - accuracy: 0.8377 - val_loss: 0.3289 - val_accuracy: 0.8778\n",
      "Epoch 6/30\n",
      "69/69 [==============================] - 132s 2s/step - loss: 0.4073 - accuracy: 0.8489 - val_loss: 0.3863 - val_accuracy: 0.8713\n",
      "Epoch 7/30\n",
      "69/69 [==============================] - 134s 2s/step - loss: 0.4009 - accuracy: 0.8576 - val_loss: 0.2953 - val_accuracy: 0.8998\n",
      "Epoch 8/30\n",
      "69/69 [==============================] - 133s 2s/step - loss: 0.3659 - accuracy: 0.8651 - val_loss: 0.3265 - val_accuracy: 0.8943\n",
      "Epoch 9/30\n",
      "69/69 [==============================] - 143s 2s/step - loss: 0.3350 - accuracy: 0.8794 - val_loss: 0.2942 - val_accuracy: 0.8989\n",
      "Epoch 10/30\n",
      "69/69 [==============================] - 141s 2s/step - loss: 0.3253 - accuracy: 0.8831 - val_loss: 0.2798 - val_accuracy: 0.9062\n",
      "Epoch 11/30\n",
      "69/69 [==============================] - 134s 2s/step - loss: 0.3074 - accuracy: 0.8872 - val_loss: 0.2773 - val_accuracy: 0.9007\n",
      "Epoch 12/30\n",
      "69/69 [==============================] - 134s 2s/step - loss: 0.2870 - accuracy: 0.8981 - val_loss: 0.3476 - val_accuracy: 0.8814\n",
      "Epoch 13/30\n",
      "69/69 [==============================] - 134s 2s/step - loss: 0.3077 - accuracy: 0.8913 - val_loss: 0.2846 - val_accuracy: 0.8989\n",
      "Epoch 14/30\n",
      "69/69 [==============================] - 134s 2s/step - loss: 0.3076 - accuracy: 0.8929 - val_loss: 0.2477 - val_accuracy: 0.9173\n",
      "Epoch 15/30\n",
      "69/69 [==============================] - 131s 2s/step - loss: 0.2827 - accuracy: 0.8954 - val_loss: 0.2788 - val_accuracy: 0.9035\n",
      "Epoch 16/30\n",
      "69/69 [==============================] - 136s 2s/step - loss: 0.2778 - accuracy: 0.9018 - val_loss: 0.2258 - val_accuracy: 0.9274\n",
      "Epoch 17/30\n",
      "69/69 [==============================] - 134s 2s/step - loss: 0.2622 - accuracy: 0.9063 - val_loss: 0.2368 - val_accuracy: 0.9274\n",
      "Epoch 18/30\n",
      "69/69 [==============================] - 129s 2s/step - loss: 0.2577 - accuracy: 0.9004 - val_loss: 0.2387 - val_accuracy: 0.9237\n",
      "Epoch 19/30\n",
      "69/69 [==============================] - 137s 2s/step - loss: 0.2425 - accuracy: 0.9152 - val_loss: 0.3438 - val_accuracy: 0.8943\n"
     ]
    },
    {
     "data": {
      "image/png": "[encoded data removed]",
      "text/plain": [
       "<Figure size 640x480 with 1 Axes>"
      ]
     },
     "metadata": {},
     "output_type": "display_data"
    },
    {
     "data": {
      "image/png": "[encoded data removed]",
      "text/plain": [
       "<Figure size 640x480 with 1 Axes>"
      ]
     },
     "metadata": {},
     "output_type": "display_data"
    },
    {
     "name": "stderr",
     "output_type": "stream",
     "text": [
      "/opt/conda/lib/python3.10/site-packages/keras/src/engine/training.py:3000: UserWarning: You are saving your model as an HDF5 file via `model.save()`. This file format is considered legacy. We recommend using instead the native Keras format, e.g. `model.save('my_model.keras')`.\n",
      "  saving_api.save_model(\n"
     ]
    }
   ],
   "source": [
    "#if __name__ == \"__main__\":\n",
    "main()"
   ]
  },
  {
   "cell_type": "code",
   "execution_count": 9,
   "id": "6add9a6e",
   "metadata": {
    "execution": {
     "iopub.execute_input": "2024-01-31T16:06:50.025062Z",
     "iopub.status.busy": "2024-01-31T16:06:50.024317Z",
     "iopub.status.idle": "2024-01-31T16:06:50.028948Z",
     "shell.execute_reply": "2024-01-31T16:06:50.027988Z"
    },
    "papermill": {
     "duration": 0.152622,
     "end_time": "2024-01-31T16:06:50.030856",
     "exception": false,
     "start_time": "2024-01-31T16:06:49.878234",
     "status": "completed"
    },
    "tags": []
   },
   "outputs": [],
   "source": [
    "import tensorflow"
   ]
  },
  {
   "cell_type": "code",
   "execution_count": 10,
   "id": "bf442cee",
   "metadata": {
    "execution": {
     "iopub.execute_input": "2024-01-31T16:06:50.294031Z",
     "iopub.status.busy": "2024-01-31T16:06:50.293075Z",
     "iopub.status.idle": "2024-01-31T16:06:50.299687Z",
     "shell.execute_reply": "2024-01-31T16:06:50.298592Z"
    },
    "papermill": {
     "duration": 0.131675,
     "end_time": "2024-01-31T16:06:50.301720",
     "exception": false,
     "start_time": "2024-01-31T16:06:50.170045",
     "status": "completed"
    },
    "tags": []
   },
   "outputs": [
    {
     "data": {
      "text/plain": [
       "'2.13.0'"
      ]
     },
     "execution_count": 10,
     "metadata": {},
     "output_type": "execute_result"
    }
   ],
   "source": [
    "tensorflow.__version__"
   ]
  },
  {
   "cell_type": "code",
   "execution_count": 11,
   "id": "da8af0cd",
   "metadata": {
    "execution": {
     "iopub.execute_input": "2024-01-31T16:06:50.544334Z",
     "iopub.status.busy": "2024-01-31T16:06:50.543924Z",
     "iopub.status.idle": "2024-01-31T16:06:50.550059Z",
     "shell.execute_reply": "2024-01-31T16:06:50.549195Z"
    },
    "papermill": {
     "duration": 0.130297,
     "end_time": "2024-01-31T16:06:50.552040",
     "exception": false,
     "start_time": "2024-01-31T16:06:50.421743",
     "status": "completed"
    },
    "tags": []
   },
   "outputs": [
    {
     "data": {
      "text/plain": [
       "'1.24.3'"
      ]
     },
     "execution_count": 11,
     "metadata": {},
     "output_type": "execute_result"
    }
   ],
   "source": [
    "import numpy as np\n",
    "np.__version__"
   ]
  },
  {
   "cell_type": "code",
   "execution_count": 12,
   "id": "9f73a922",
   "metadata": {
    "execution": {
     "iopub.execute_input": "2024-01-31T16:06:50.794635Z",
     "iopub.status.busy": "2024-01-31T16:06:50.793581Z",
     "iopub.status.idle": "2024-01-31T16:06:50.799565Z",
     "shell.execute_reply": "2024-01-31T16:06:50.798739Z"
    },
    "papermill": {
     "duration": 0.130983,
     "end_time": "2024-01-31T16:06:50.801607",
     "exception": false,
     "start_time": "2024-01-31T16:06:50.670624",
     "status": "completed"
    },
    "tags": []
   },
   "outputs": [
    {
     "data": {
      "text/plain": [
       "'3.7.4'"
      ]
     },
     "execution_count": 12,
     "metadata": {},
     "output_type": "execute_result"
    }
   ],
   "source": [
    "import matplotlib\n",
    "matplotlib.__version__"
   ]
  }
 ],
 "metadata": {
  "kaggle": {
   "accelerator": "nvidiaTeslaT4",
   "dataSources": [
    {
     "datasetId": 4361927,
     "sourceId": 7491740,
     "sourceType": "datasetVersion"
    }
   ],
   "dockerImageVersionId": 30635,
   "isGpuEnabled": true,
   "isInternetEnabled": true,
   "language": "python",
   "sourceType": "notebook"
  },
  "kernelspec": {
   "display_name": "Python 3",
   "language": "python",
   "name": "python3"
  },
  "language_info": {
   "codemirror_mode": {
    "name": "ipython",
    "version": 3
   },
   "file_extension": ".py",
   "mimetype": "text/x-python",
   "name": "python",
   "nbconvert_exporter": "python",
   "pygments_lexer": "ipython3",
   "version": "3.10.12"
  },
  "papermill": {
   "default_parameters": {},
   "duration": 2658.643121,
   "end_time": "2024-01-31T16:06:53.718994",
   "environment_variables": {},
   "exception": null,
   "input_path": "__notebook__.ipynb",
   "output_path": "__notebook__.ipynb",
   "parameters": {},
   "start_time": "2024-01-31T15:22:35.075873",
   "version": "2.4.0"
  }
 },
 "nbformat": 4,
 "nbformat_minor": 5
}
